{
 "cells": [
  {
   "cell_type": "code",
   "execution_count": 1,
   "metadata": {},
   "outputs": [],
   "source": [
    "import numpy as np\n",
    "\n",
    "from __future__ import division\n",
    "import math\n",
    "\n",
    "from random import seed\n",
    "from random import randrange\n",
    "from collections import Counter"
   ]
  },
  {
   "cell_type": "code",
   "execution_count": 3,
   "metadata": {},
   "outputs": [],
   "source": [
    "# Implementation by me from previous exercises with some nessesairy modifications \n",
    "def eu_dist(v1, v2):\n",
    "    \"\"\"Function that calculates the Euclidian distance for two vectors\"\"\"\n",
    "    distance = np.linalg.norm(v1 - v2)\n",
    "\n",
    "    return distance"
   ]
  },
  {
   "cell_type": "code",
   "execution_count": 4,
   "metadata": {},
   "outputs": [],
   "source": [
    "def kmeans(data, k, means = None):\n",
    "    \"\"\"Implementation of k means algorithm\"\"\"\n",
    "    # initialize the cluster centers as the two first data points\n",
    "    if means is None: \n",
    "        clus_1, clus_2, clus_3 = data[0, :], data[1, :], data[2, :]\n",
    "    else: \n",
    "        clus_1, clus_2, clus_3 = means[0], means[1], means[2]\n",
    "\n",
    "    # calculate distance between cluster 1 and 2 and all data entries\n",
    "    dist_1 = []\n",
    "    dist_2 = []\n",
    "    dist_3 = []\n",
    "    for row in data:\n",
    "        # skip row 1 and 2?\n",
    "        dist_1.append(eu_dist(row, clus_1))\n",
    "        dist_2.append(eu_dist(row, clus_2))\n",
    "        dist_3.append(eu_dist(row, clus_3))\n",
    "\n",
    "    distances = np.column_stack((dist_1, dist_2, dist_3))\n",
    "\n",
    "    # Assign the closest centriod to 0 or 1\n",
    "    closest = []\n",
    "    for row in distances:\n",
    "        closest.append(np.argmin(row))\n",
    "    # appending the smallest fo the two values to the closest list\n",
    "    # as a 0, 1 or 2\n",
    "\n",
    "    # converting back to array\n",
    "    closest = np.array(closest)\n",
    "\n",
    "    centroids = []\n",
    "    # loop over the k amount of clusters\n",
    "    for i in range(k):\n",
    "        cluster_mean = np.mean(data[closest == i], axis=0)\n",
    "        centroids.append(cluster_mean)\n",
    "        \n",
    "    return centroids, closest "
   ]
  },
  {
   "cell_type": "code",
   "execution_count": 5,
   "metadata": {},
   "outputs": [],
   "source": [
    "def kmeans_iterations(data, k, quiet=False): \n",
    "    \"\"\"Function that iterates over the kmeans function until the cluster means do not change anymore\"\"\"\n",
    "    first_means, firstclosest = kmeans(data, k)\n",
    "    second_means, secondclosest = kmeans(data, k, first_means)\n",
    "    \n",
    "    count = 0\n",
    "    while eu_dist(first_means[0], second_means[0]) + eu_dist(first_means[1], second_means[1]) + eu_dist(first_means[2], second_means[2])  != 0: \n",
    "        # reassigning the new means to the previous means\n",
    "        first_means = second_means\n",
    "        # recalculating the new means\n",
    "        second_means, secondclosest = kmeans(data, k, second_means)\n",
    "        # counting the iterations\n",
    "        count = count + 1\n",
    "        closest = secondclosest\n",
    "        \n",
    "    if quiet==False:\n",
    "        print('Cluster mean 1\\n%s' % second_means[0])\n",
    "        print('\\nCluster mean 2\\n%s' % second_means[1])\n",
    "        print('\\nCluster mean 3\\n%s' % second_means[2])\n",
    "        print('\\nIterations\\n%s' % count)\n",
    "    \n",
    "    return second_means, closest "
   ]
  },
  {
   "cell_type": "code",
   "execution_count": null,
   "metadata": {},
   "outputs": [],
   "source": []
  }
 ],
 "metadata": {
  "kernelspec": {
   "display_name": "Python 3",
   "language": "python",
   "name": "python3"
  },
  "language_info": {
   "codemirror_mode": {
    "name": "ipython",
    "version": 3
   },
   "file_extension": ".py",
   "mimetype": "text/x-python",
   "name": "python",
   "nbconvert_exporter": "python",
   "pygments_lexer": "ipython3",
   "version": "3.8.3"
  },
  "latex_envs": {
   "LaTeX_envs_menu_present": true,
   "autoclose": false,
   "autocomplete": true,
   "bibliofile": "biblio.bib",
   "cite_by": "apalike",
   "current_citInitial": 1,
   "eqLabelWithNumbers": true,
   "eqNumInitial": 1,
   "hotkeys": {
    "equation": "Ctrl-E",
    "itemize": "Ctrl-I"
   },
   "labels_anchors": false,
   "latex_user_defs": false,
   "report_style_numbering": false,
   "user_envs_cfg": false
  },
  "toc": {
   "base_numbering": 1,
   "nav_menu": {},
   "number_sections": true,
   "sideBar": true,
   "skip_h1_title": false,
   "title_cell": "Table of Contents",
   "title_sidebar": "Contents",
   "toc_cell": false,
   "toc_position": {},
   "toc_section_display": true,
   "toc_window_display": false
  }
 },
 "nbformat": 4,
 "nbformat_minor": 4
}
