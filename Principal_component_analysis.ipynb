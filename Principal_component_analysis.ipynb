{
 "cells": [
  {
   "cell_type": "code",
   "execution_count": null,
   "metadata": {},
   "outputs": [],
   "source": [
    "import numpy as np"
   ]
  },
  {
   "cell_type": "code",
   "execution_count": null,
   "metadata": {},
   "outputs": [],
   "source": [
    "def PCA(data, quiet=False):\n",
    "    \"\"\"Implemenation of PCA that outputs the unitvectors \n",
    "    spanning the principle component and the variance captured by each \n",
    "    of the components.\"\"\"\n",
    "    # first step is to center data\n",
    "    M = np.mean(data, axis=0)\n",
    "    # center the values in each column by subtracting the mean\n",
    "    centered = data - M\n",
    "\n",
    "    # Calculate covariance matrix\n",
    "    cov_mat = np.cov(centered, rowvar=False)\n",
    "    # calculating eigenvalue decomposition of the covariance matrix\n",
    "    eigvals, eigvecs = np.linalg.eigh(cov_mat)\n",
    "\n",
    "    # the eigenvectors are sorted by the eigenvalues in decending order\n",
    "    eigvals = eigvals[::-1]\n",
    "    eigvecs = eigvecs[:, ::-1]\n",
    "    \n",
    "    if quiet == False:\n",
    "        np.set_printoptions(precision=3)\n",
    "        print('Eigenvectors \\n%s' % eigvecs)\n",
    "        print('\\nEigenvalues \\n%s' % eigvals)\n",
    "\n",
    "    return eigvecs, eigvals"
   ]
  },
  {
   "cell_type": "code",
   "execution_count": null,
   "metadata": {},
   "outputs": [],
   "source": [
    "def project_data(vecs, data, n, start = 0): \n",
    "    \"\"\"Function that projects the data onto n vectors.\"\"\"\n",
    "    # select only the first n vectors\n",
    "    vectors = vecs[:, start:n]\n",
    "    \n",
    "    #projection of data onto a plane\n",
    "    projected_data = vectors.T.dot(data.T) \n",
    "    \n",
    "    return projected_data.T "
   ]
  }
 ],
 "metadata": {
  "kernelspec": {
   "display_name": "Python 3",
   "language": "python",
   "name": "python3"
  },
  "language_info": {
   "codemirror_mode": {
    "name": "ipython",
    "version": 3
   },
   "file_extension": ".py",
   "mimetype": "text/x-python",
   "name": "python",
   "nbconvert_exporter": "python",
   "pygments_lexer": "ipython3",
   "version": "3.8.3"
  },
  "latex_envs": {
   "LaTeX_envs_menu_present": true,
   "autoclose": false,
   "autocomplete": true,
   "bibliofile": "biblio.bib",
   "cite_by": "apalike",
   "current_citInitial": 1,
   "eqLabelWithNumbers": true,
   "eqNumInitial": 1,
   "hotkeys": {
    "equation": "Ctrl-E",
    "itemize": "Ctrl-I"
   },
   "labels_anchors": false,
   "latex_user_defs": false,
   "report_style_numbering": false,
   "user_envs_cfg": false
  },
  "toc": {
   "base_numbering": 1,
   "nav_menu": {},
   "number_sections": true,
   "sideBar": true,
   "skip_h1_title": false,
   "title_cell": "Table of Contents",
   "title_sidebar": "Contents",
   "toc_cell": false,
   "toc_position": {},
   "toc_section_display": true,
   "toc_window_display": false
  }
 },
 "nbformat": 4,
 "nbformat_minor": 4
}
