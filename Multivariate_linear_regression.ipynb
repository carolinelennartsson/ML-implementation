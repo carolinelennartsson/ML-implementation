{
 "cells": [
  {
   "cell_type": "markdown",
   "metadata": {},
   "source": [
    "# Multivariate linear regression"
   ]
  },
  {
   "cell_type": "code",
   "execution_count": null,
   "metadata": {},
   "outputs": [],
   "source": [
    "import numpy as np"
   ]
  },
  {
   "cell_type": "markdown",
   "metadata": {},
   "source": [
    "The variables can be obtained by the following formula: $w=(X^TX)^{-1}X^Ty$. The implementation uses the formula to return the parameters $w_i$. As input, the implementation takes the variable matrix X and label matrix y to learn the model. "
   ]
  },
  {
   "cell_type": "code",
   "execution_count": null,
   "metadata": {},
   "outputs": [],
   "source": [
    "def multivarlinreg(X, y, quiet=False): \n",
    "    \"\"\"Function that implements linear regression with gradiant decent \n",
    "    x = data matrix\n",
    "    y = the dependent variable /the labels\n",
    "    \"\"\"\n",
    "    # When X is one dimensional, this will make the function run anyways\n",
    "    if len(X.shape) == 1: \n",
    "        X = X.reshape(-1,1)\n",
    "    \n",
    "    # instert a column of ones at index 0, for calculation of w0\n",
    "    w0_ones = np.ones((X.shape[0],))\n",
    "    X = np.insert(X, 0, w0_ones, axis=1)\n",
    "    \n",
    "    # Calculate wi\n",
    "    w = np.linalg.inv(X.T.dot(X)).dot(X.T).dot(y)\n",
    "    \n",
    "    # Printing the reults if desireble \n",
    "    count = -1\n",
    "    if quiet == False:\n",
    "        for i in w: \n",
    "            count = count + 1\n",
    "            print('w' + str(count) + ': ' + str(i))\n",
    "            \n",
    "    return w"
   ]
  },
  {
   "cell_type": "code",
   "execution_count": null,
   "metadata": {},
   "outputs": [],
   "source": [
    "def pred(x_test, wi):\n",
    "    \"\"\"Function that predicts output values from the wi values\"\"\"\n",
    "    # instert a column of ones at index 0, for calculation of w0\n",
    "    w0_ones = np.ones((x_test.shape[0],))\n",
    "    x_test = np.insert(x_test, 0, w0_ones, axis=1)\n",
    "    \n",
    "    # make predictions\n",
    "    pred = np.dot(x_test, wi)\n",
    "    \n",
    "    return pred"
   ]
  },
  {
   "cell_type": "code",
   "execution_count": null,
   "metadata": {},
   "outputs": [],
   "source": [
    "def rmse(f, t): \n",
    "    \"\"\"Function that implements the root mean square error. \n",
    "    f = the predicted values of the dependent output variable\n",
    "    t = the ground truth values of dependent output variable\n",
    "    , an N-dimensional vector, as a numpy array\n",
    "    \"\"\"\n",
    "    f = np.array(f)\n",
    "    t = np.array(t)\n",
    "\n",
    "    diff = (f - t)**2\n",
    "    rmse = np.sqrt(np.mean(diff))\n",
    "    \n",
    "    print(\"Rmse: \" + str(rmse))\n",
    "    \n",
    "    return rmse"
   ]
  }
 ],
 "metadata": {
  "kernelspec": {
   "display_name": "Python 3",
   "language": "python",
   "name": "python3"
  },
  "language_info": {
   "codemirror_mode": {
    "name": "ipython",
    "version": 3
   },
   "file_extension": ".py",
   "mimetype": "text/x-python",
   "name": "python",
   "nbconvert_exporter": "python",
   "pygments_lexer": "ipython3",
   "version": "3.8.3"
  },
  "latex_envs": {
   "LaTeX_envs_menu_present": true,
   "autoclose": false,
   "autocomplete": true,
   "bibliofile": "biblio.bib",
   "cite_by": "apalike",
   "current_citInitial": 1,
   "eqLabelWithNumbers": true,
   "eqNumInitial": 1,
   "hotkeys": {
    "equation": "Ctrl-E",
    "itemize": "Ctrl-I"
   },
   "labels_anchors": false,
   "latex_user_defs": false,
   "report_style_numbering": false,
   "user_envs_cfg": false
  },
  "toc": {
   "base_numbering": 1,
   "nav_menu": {},
   "number_sections": true,
   "sideBar": true,
   "skip_h1_title": false,
   "title_cell": "Table of Contents",
   "title_sidebar": "Contents",
   "toc_cell": false,
   "toc_position": {},
   "toc_section_display": true,
   "toc_window_display": false
  }
 },
 "nbformat": 4,
 "nbformat_minor": 4
}
